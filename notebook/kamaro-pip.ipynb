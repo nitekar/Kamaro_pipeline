{
 "cells": [
  {
   "cell_type": "markdown",
   "id": "f77849ad",
   "metadata": {},
   "source": [
    "jkzjksj"
   ]
  },
  {
   "cell_type": "code",
   "execution_count": null,
   "id": "71778fef",
   "metadata": {},
   "outputs": [
    {
     "name": "stdout",
     "output_type": "stream",
     "text": [
      " Dataset Exploration:\n",
      "==================================================\n",
      "  MALNUTRITION: 0 images\n",
      "  NUTRITION: 0 images\n",
      "\n",
      "Test Data:\n",
      "  MALNUTRITION: 1004 images\n",
      "  NUTRITION: 1005 images\n",
      "\n",
      "Total Training Images: 0\n",
      "Total Test Images: 2009\n"
     ]
    }
   ],
   "source": [
    "# Define data paths\n",
    "TRAIN_DIR = \"../data/train\"\n",
    "TEST_DIR = \"../data/test\"\n",
    "IMG_SIZE = (224, 224)\n",
    "BATCH_SIZE = 32\n",
    "\n",
    "# Explore dataset structure\n",
    "def explore_dataset(data_dir):\n",
    "    classes = ['MALNUTRITION', 'NUTRITION']\n",
    "    data_info = {}\n",
    "    \n",
    "    for class_name in classes:\n",
    "        class_path = os.path.join(data_dir, class_name)\n",
    "        if os.path.exists(class_path):\n",
    "            image_count = len([\n",
    "                f for f in os.listdir(class_path)\n",
    "                if f.lower().endswith(('.jpeg', '.jpg', '.png'))\n",
    "            ])\n",
    "            data_info[class_name] = image_count\n",
    "        else:\n",
    "            data_info[class_name] = 0\n",
    "    \n",
    "    return data_info\n",
    "\n",
    "# Explore training and test data\n",
    "\n",
    "train_info = explore_dataset(TRAIN_DIR)\n",
    "test_info = explore_dataset(TEST_DIR)\n",
    "\n",
    "for class_name, count in train_info.items():\n",
    "    print(f\"  {class_name}: {count} images\")\n",
    "\n",
    "print(f\"\\nTest Data:\")\n",
    "for class_name, count in test_info.items():\n",
    "    print(f\"  {class_name}: {count} images\")\n",
    "\n",
    "print(f\"\\nTotal Training Images: {sum(train_info.values())}\")\n",
    "print(f\"Total Test Images: {sum(test_info.values())}\")\n",
    "\n",
    "# Calculate class distribution\n",
    "total_train = sum(train_info.values())\n",
    "if total_train > 0:\n",
    "    print(f\"\\nClass Distribution (Training):\")\n",
    "    for class_name, count in train_info.items():\n",
    "        percentage = (count / total_train) * 100\n",
    "        print(f\"  {class_name}: {percentage:.1f}%\")"
   ]
  },
  {
   "cell_type": "code",
   "execution_count": null,
   "id": "413b4cd7",
   "metadata": {},
   "outputs": [],
   "source": []
  },
  {
   "cell_type": "code",
   "execution_count": null,
   "id": "2b33b378",
   "metadata": {},
   "outputs": [],
   "source": [
    "#  Model Creation\n",
    "from tensorflow.keras.applications import MobileNetV2\n",
    "from tensorflow.keras.models import Sequential\n",
    "from tensorflow.keras.layers import GlobalAveragePooling2D, Dense\n",
    "from tensorflow.keras.optimizers import Adam\n",
    "\n",
    "# Load base model\n",
    "base_model = MobileNetV2(weights='imagenet', include_top=False, input_shape=(224, 224, 3))\n",
    "base_model.trainable = False\n",
    "\n",
    "# Build classification model\n",
    "model = Sequential([\n",
    "    base_model,\n",
    "    GlobalAveragePooling2D(),\n",
    "    Dense(128, activation='relu'),\n",
    "    Dense(train_gen.num_classes, activation='softmax')\n",
    "])\n",
    "\n",
    "# Compile model\n",
    "model.compile(optimizer=Adam(learning_rate=0.0001), loss='categorical_crossentropy', metrics=['accuracy'])\n",
    "\n",
    "# Train model\n",
    "history = model.fit(train_gen, validation_data=val_gen, epochs=10)\n",
    "\n",
    "# Save model\n",
    "model.save('../models/mobilenetv2_model.h5')\n"
   ]
  },
  {
   "cell_type": "markdown",
   "id": "834e56ea",
   "metadata": {},
   "source": [
    "#  Model Testing"
   ]
  },
  {
   "cell_type": "code",
   "execution_count": null,
   "id": "055cf25a",
   "metadata": {},
   "outputs": [],
   "source": [
    "from sklearn.metrics import classification_report, confusion_matrix\n",
    "import seaborn as sns\n",
    "\n",
    "# Predict on test data\n",
    "preds = model.predict(test_gen)\n",
    "y_pred = np.argmax(preds, axis=1)\n",
    "y_true = test_gen.classes\n",
    "class_labels = list(test_gen.class_indices.keys())\n",
    "\n",
    "# Classification report\n",
    "print(classification_report(y_true, y_pred, target_names=class_labels))\n",
    "\n",
    "# Confusion matrix\n",
    "cm = confusion_matrix(y_true, y_pred)\n",
    "plt.figure(figsize=(6, 4))\n",
    "sns.heatmap(cm, annot=True, fmt='d', xticklabels=class_labels, yticklabels=class_labels, cmap='Blues')\n",
    "plt.title(\"Confusion Matrix\")\n",
    "plt.xlabel(\"Predicted\")\n",
    "plt.ylabel(\"Actual\")\n",
    "plt.show()\n"
   ]
  },
  {
   "cell_type": "markdown",
   "id": "bca7bf3d",
   "metadata": {},
   "source": [
    "# Model Retraining"
   ]
  },
  {
   "cell_type": "code",
   "execution_count": null,
   "id": "4a9517e3",
   "metadata": {},
   "outputs": [],
   "source": [
    "import tensorflow as tf\n",
    "from tensorflow.keras.models import load_model\n",
    "\n",
    "def retrain_model(new_data_dir):\n",
    "    # Load new data\n",
    "    new_datagen = ImageDataGenerator(rescale=1./255, validation_split=0.2)\n",
    "    new_train_gen = new_datagen.flow_from_directory(\n",
    "        new_data_dir,\n",
    "        target_size=(224, 224),\n",
    "        batch_size=32,\n",
    "        class_mode='categorical',\n",
    "        subset='training'\n",
    "    )\n",
    "    new_val_gen = new_datagen.flow_from_directory(\n",
    "        new_data_dir,\n",
    "        target_size=(224, 224),\n",
    "        batch_size=32,\n",
    "        class_mode='categorical',\n",
    "        subset='validation'\n",
    "    )\n",
    "\n",
    "    # Load existing model\n",
    "    model = load_model('../models/mobilenetv2_model.h5')\n",
    "\n",
    "    # Retrain\n",
    "    model.fit(new_train_gen, validation_data=new_val_gen, epochs=5)\n",
    "\n",
    "    # Save updated model\n",
    "    model.save('../models/mobilenetv2_model_retrained.h5')\n",
    "    print(\"Model retrained and saved.\")\n",
    "\n",
    "# Example usage:\n",
    "# retrain_model('../data/train/new_uploads')\n"
   ]
  },
  {
   "cell_type": "markdown",
   "id": "514133ca",
   "metadata": {},
   "source": []
  },
  {
   "cell_type": "code",
   "execution_count": null,
   "id": "787ce3bf",
   "metadata": {},
   "outputs": [],
   "source": []
  }
 ],
 "metadata": {
  "kernelspec": {
   "display_name": "Python 3",
   "language": "python",
   "name": "python3"
  },
  "language_info": {
   "codemirror_mode": {
    "name": "ipython",
    "version": 3
   },
   "file_extension": ".py",
   "mimetype": "text/x-python",
   "name": "python",
   "nbconvert_exporter": "python",
   "pygments_lexer": "ipython3",
   "version": "3.11.9"
  }
 },
 "nbformat": 4,
 "nbformat_minor": 5
}
